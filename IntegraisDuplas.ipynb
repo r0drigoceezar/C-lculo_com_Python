{
 "cells": [
  {
   "cell_type": "code",
   "execution_count": 16,
   "id": "9487b2f5",
   "metadata": {},
   "outputs": [],
   "source": [
    "import numpy as np\n",
    "import sympy as sp"
   ]
  },
  {
   "cell_type": "code",
   "execution_count": null,
   "id": "89001d7c",
   "metadata": {},
   "outputs": [],
   "source": [
    "init"
   ]
  },
  {
   "cell_type": "code",
   "execution_count": 28,
   "id": "af73cf87",
   "metadata": {},
   "outputs": [],
   "source": [
    "x = Symbol('x')"
   ]
  },
  {
   "cell_type": "code",
   "execution_count": 22,
   "id": "233cd63b",
   "metadata": {},
   "outputs": [],
   "source": [
    "f1 = 2**2 * 3"
   ]
  },
  {
   "cell_type": "code",
   "execution_count": 24,
   "id": "d9eaeb6d",
   "metadata": {},
   "outputs": [
    {
     "data": {
      "text/latex": [
       "$\\displaystyle 12 x$"
      ],
      "text/plain": [
       "12*x"
      ]
     },
     "execution_count": 24,
     "metadata": {},
     "output_type": "execute_result"
    }
   ],
   "source": [
    "integrate = sp.integrate(f1, x)\n",
    "integrate"
   ]
  },
  {
   "cell_type": "code",
   "execution_count": null,
   "id": "6ef4ce6b",
   "metadata": {},
   "outputs": [],
   "source": []
  }
 ],
 "metadata": {
  "kernelspec": {
   "display_name": "Python 3 (ipykernel)",
   "language": "python",
   "name": "python3"
  },
  "language_info": {
   "codemirror_mode": {
    "name": "ipython",
    "version": 3
   },
   "file_extension": ".py",
   "mimetype": "text/x-python",
   "name": "python",
   "nbconvert_exporter": "python",
   "pygments_lexer": "ipython3",
   "version": "3.9.12"
  }
 },
 "nbformat": 4,
 "nbformat_minor": 5
}
